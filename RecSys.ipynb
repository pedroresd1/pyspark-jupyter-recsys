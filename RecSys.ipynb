{
 "cells": [
  {
   "cell_type": "code",
   "execution_count": 2,
   "id": "b71a423f-1c09-495b-a847-5153ebb6c309",
   "metadata": {},
   "outputs": [],
   "source": [
    "from pyspark.sql import SparkSession\n",
    "\n",
    "from pyspark.ml.evaluation import RegressionEvaluator\n",
    "\n",
    "from pyspark.ml.recommendation import ALS\n",
    "\n",
    "from pyspark.sql import Row\n",
    " "
   ]
  },
  {
   "cell_type": "code",
   "execution_count": 3,
   "id": "6bbde4ae-aa3e-4506-bb58-7ca86c69f9eb",
   "metadata": {},
   "outputs": [],
   "source": [
    "spark = SparkSession\\\n",
    "        .builder\\\n",
    "        .appName(\"RecSys\")\\\n",
    "        .config(\"spark.mongodb.read.connection.uri\",\"mongodb://172.17.0.2:27017/rec.recomendacao\")\\\n",
    "        .config(\"spark.mongodb.write.connection.uri\",\"mongodb://172.17.0.2:27017/rec.recomendacao\")\\\n",
    "        .config(\"spark.jars.packages\", \"org.mongodb.spark:mongo-spark-connector_2.12:10.3.0\")\\\n",
    "        .getOrCreate()"
   ]
  },
  {
   "cell_type": "code",
   "execution_count": 11,
   "id": "b91ebdef-0bf7-43b6-ab1c-19bee2cd8463",
   "metadata": {},
   "outputs": [],
   "source": [
    "linhas = spark.read.text(\"./dados/sample_movielens_ratings.txt\").rdd\n",
    "partes = linhas.map(lambda row: row.value.split(\"::\"))\n",
    "ratingsRDD = partes.map(lambda p: Row(userId=int(p[0]), movieId=int(p[1]), rating=float(p[2]), timestamp=int(p[3])))\n",
    "ratings = spark.createDataFrame(ratingsRDD.collect())"
   ]
  },
  {
   "cell_type": "code",
   "execution_count": 12,
   "id": "e84c1afb-e0d6-4dc4-bcd5-8e688f92bc70",
   "metadata": {},
   "outputs": [
    {
     "data": {
      "text/plain": [
       "pyspark.sql.dataframe.DataFrame"
      ]
     },
     "execution_count": 12,
     "metadata": {},
     "output_type": "execute_result"
    }
   ],
   "source": [
    "type(ratings)"
   ]
  },
  {
   "cell_type": "code",
   "execution_count": 13,
   "id": "6b1b0a01-79f2-4955-ada8-266ff1b290d7",
   "metadata": {},
   "outputs": [
    {
     "name": "stdout",
     "output_type": "stream",
     "text": [
      "+------+-------+------+----------+\n",
      "|userId|movieId|rating| timestamp|\n",
      "+------+-------+------+----------+\n",
      "|     0|      2|   3.0|1424380312|\n",
      "|     0|      3|   1.0|1424380312|\n",
      "|     0|      5|   2.0|1424380312|\n",
      "|     0|      9|   4.0|1424380312|\n",
      "|     0|     11|   1.0|1424380312|\n",
      "|     0|     12|   2.0|1424380312|\n",
      "|     0|     15|   1.0|1424380312|\n",
      "|     0|     17|   1.0|1424380312|\n",
      "|     0|     19|   1.0|1424380312|\n",
      "|     0|     21|   1.0|1424380312|\n",
      "+------+-------+------+----------+\n",
      "only showing top 10 rows\n",
      "\n"
     ]
    }
   ],
   "source": [
    "ratings.show(10)"
   ]
  },
  {
   "cell_type": "code",
   "execution_count": 15,
   "id": "104fffe8-5b52-410d-b479-17d41e388883",
   "metadata": {},
   "outputs": [],
   "source": [
    "(training, test) = ratings.randomSplit([0.8,0.2])"
   ]
  },
  {
   "cell_type": "code",
   "execution_count": 16,
   "id": "f3b9a49e-b872-4dd1-8604-f2bd9d9a8750",
   "metadata": {},
   "outputs": [],
   "source": [
    "als = ALS(maxIter=5, regParam=0.01, userCol=\"userId\", itemCol=\"movieId\", ratingCol=\"rating\",\n",
    "              coldStartStrategy=\"drop\")\n",
    "model = als.fit(training)"
   ]
  },
  {
   "cell_type": "code",
   "execution_count": 19,
   "id": "6ac2fa4f-1c60-43a6-8809-4297f39853ee",
   "metadata": {},
   "outputs": [],
   "source": [
    "predicoes = model.transform(test)\n",
    "evaluator = RegressionEvaluator(metricName=\"rmse\", labelCol=\"rating\", predictionCol=\"prediction\")"
   ]
  },
  {
   "cell_type": "code",
   "execution_count": 20,
   "id": "79753970-d812-4734-8f0b-fe801a94d14d",
   "metadata": {},
   "outputs": [
    {
     "name": "stdout",
     "output_type": "stream",
     "text": [
      "Erro médio quadrático = 1.848448167851217\n"
     ]
    }
   ],
   "source": [
    "erro = evaluator.evaluate(predicoes)\n",
    "print(\"Erro médio quadrático = \"+str(erro))"
   ]
  },
  {
   "cell_type": "code",
   "execution_count": 21,
   "id": "bff468a8-f5a3-43af-9ddc-fb764b7edda0",
   "metadata": {},
   "outputs": [],
   "source": [
    "userRecs = model.recommendForAllUsers(3)"
   ]
  },
  {
   "cell_type": "code",
   "execution_count": 22,
   "id": "c47ad517-5b45-407d-a8f9-93c055989627",
   "metadata": {},
   "outputs": [
    {
     "name": "stdout",
     "output_type": "stream",
     "text": [
      "+------+---------------------------------------------------+\n",
      "|userId|recommendations                                    |\n",
      "+------+---------------------------------------------------+\n",
      "|20    |[{83, 5.294015}, {63, 4.963829}, {52, 4.8285}]     |\n",
      "|10    |[{62, 4.8162794}, {93, 4.517762}, {29, 4.3242645}] |\n",
      "|0     |[{62, 3.92786}, {9, 3.291734}, {40, 3.0559452}]    |\n",
      "|1     |[{58, 5.31978}, {47, 4.5226946}, {25, 3.8565567}]  |\n",
      "|21    |[{29, 5.1598487}, {53, 4.7203784}, {2, 3.8707504}] |\n",
      "|11    |[{32, 5.254582}, {27, 5.0810575}, {30, 4.9302206}] |\n",
      "|12    |[{9, 5.5025663}, {35, 5.0510454}, {55, 4.7976894}] |\n",
      "|22    |[{22, 5.078688}, {75, 4.91083}, {88, 4.8385706}]   |\n",
      "|2     |[{32, 5.9938793}, {49, 5.986617}, {8, 5.111637}]   |\n",
      "|13    |[{93, 3.7036908}, {53, 3.2669418}, {74, 3.0079873}]|\n",
      "+------+---------------------------------------------------+\n",
      "only showing top 10 rows\n",
      "\n"
     ]
    }
   ],
   "source": [
    "userRecs.show(10,False)"
   ]
  },
  {
   "cell_type": "code",
   "execution_count": 27,
   "id": "64816545-3dcc-4304-ba86-eb0776209fed",
   "metadata": {},
   "outputs": [],
   "source": [
    "recomendacoes = userRecs.select(userRecs[\"userId\"],userRecs[\"recommendations\"][\"movieId\"].alias(\"movieId\")\n",
    "                                    ,userRecs[\"recommendations\"][\"rating\"].alias(\"rating\") )"
   ]
  },
  {
   "cell_type": "code",
   "execution_count": 29,
   "id": "5c574282-58e9-46eb-9cec-96c560cd2a92",
   "metadata": {},
   "outputs": [
    {
     "name": "stdout",
     "output_type": "stream",
     "text": [
      "+------+------------+---------------------------------+\n",
      "|userId|movieId     |rating                           |\n",
      "+------+------------+---------------------------------+\n",
      "|20    |[83, 63, 52]|[5.294015, 4.963829, 4.8285]     |\n",
      "|10    |[62, 93, 29]|[4.8162794, 4.517762, 4.3242645] |\n",
      "|0     |[62, 9, 40] |[3.92786, 3.291734, 3.0559452]   |\n",
      "|1     |[58, 47, 25]|[5.31978, 4.5226946, 3.8565567]  |\n",
      "|21    |[29, 53, 2] |[5.1598487, 4.7203784, 3.8707504]|\n",
      "|11    |[32, 27, 30]|[5.254582, 5.0810575, 4.9302206] |\n",
      "|12    |[9, 35, 55] |[5.5025663, 5.0510454, 4.7976894]|\n",
      "|22    |[22, 75, 88]|[5.078688, 4.91083, 4.8385706]   |\n",
      "|2     |[32, 49, 8] |[5.9938793, 5.986617, 5.111637]  |\n",
      "|13    |[93, 53, 74]|[3.7036908, 3.2669418, 3.0079873]|\n",
      "|3     |[51, 94, 18]|[5.1235037, 4.4322443, 4.14624]  |\n",
      "|23    |[96, 55, 65]|[5.2013264, 5.133546, 5.072284]  |\n",
      "|4     |[2, 62, 29] |[4.1768446, 4.0502434, 3.929776] |\n",
      "|24    |[25, 22, 96]|[6.7787385, 6.0487514, 5.055647] |\n",
      "|14    |[29, 63, 2] |[5.189298, 4.4338837, 4.261513]  |\n",
      "|5     |[32, 55, 50]|[6.5298295, 4.8155336, 4.3432164]|\n",
      "|15    |[46, 94, 1] |[5.0851912, 3.1917632, 3.188534] |\n",
      "|25    |[83, 71, 19]|[4.9047694, 3.8336635, 3.7432122]|\n",
      "|26    |[24, 7, 94] |[5.115131, 4.9414606, 4.9359064] |\n",
      "|6     |[69, 25, 47]|[4.44149, 4.1005826, 3.8047283]  |\n",
      "+------+------------+---------------------------------+\n",
      "only showing top 20 rows\n",
      "\n"
     ]
    }
   ],
   "source": [
    "recomendacoes.show(20, False)"
   ]
  },
  {
   "cell_type": "code",
   "execution_count": 30,
   "id": "e0288cdb-c326-46fe-b2d9-84a8ab9cbac1",
   "metadata": {},
   "outputs": [],
   "source": [
    "recomendacoes.write.format(\"mongodb\").mode(\"append\").save()"
   ]
  },
  {
   "cell_type": "code",
   "execution_count": null,
   "id": "049e8e1a-43e8-4299-87b7-16e876b9b264",
   "metadata": {},
   "outputs": [],
   "source": []
  }
 ],
 "metadata": {
  "kernelspec": {
   "display_name": "Python 3 (ipykernel)",
   "language": "python",
   "name": "python3"
  },
  "language_info": {
   "codemirror_mode": {
    "name": "ipython",
    "version": 3
   },
   "file_extension": ".py",
   "mimetype": "text/x-python",
   "name": "python",
   "nbconvert_exporter": "python",
   "pygments_lexer": "ipython3",
   "version": "3.11.6"
  }
 },
 "nbformat": 4,
 "nbformat_minor": 5
}
